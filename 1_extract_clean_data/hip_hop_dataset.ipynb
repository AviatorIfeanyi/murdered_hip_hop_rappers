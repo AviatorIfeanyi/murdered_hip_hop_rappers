{
 "cells": [
  {
   "cell_type": "code",
   "execution_count": 1,
   "id": "7e28db88",
   "metadata": {},
   "outputs": [],
   "source": [
    "import pandas as pd\n"
   ]
  },
  {
   "cell_type": "code",
   "execution_count": null,
   "id": "5630a85a",
   "metadata": {},
   "outputs": [],
   "source": []
  },
  {
   "cell_type": "code",
   "execution_count": 123,
   "id": "75368229",
   "metadata": {},
   "outputs": [],
   "source": [
    "hip_hop_death = pd.read_html('https://en.wikipedia.org/wiki/List_of_murdered_hip_hop_musicians')"
   ]
  },
  {
   "cell_type": "code",
   "execution_count": 137,
   "id": "01ac5e65",
   "metadata": {},
   "outputs": [
    {
     "data": {
      "text/plain": [
       "(60, 6)"
      ]
     },
     "execution_count": 137,
     "metadata": {},
     "output_type": "execute_result"
    }
   ],
   "source": [
    "hip_hop_death[0].shape"
   ]
  },
  {
   "cell_type": "code",
   "execution_count": 138,
   "id": "d4111bcf",
   "metadata": {},
   "outputs": [
    {
     "data": {
      "text/plain": [
       "list"
      ]
     },
     "execution_count": 138,
     "metadata": {},
     "output_type": "execute_result"
    }
   ],
   "source": [
    "\n",
    "type(hip_hop_death)"
   ]
  },
  {
   "cell_type": "code",
   "execution_count": 235,
   "id": "a19536b4",
   "metadata": {},
   "outputs": [],
   "source": [
    "hip_hop_death_df = pd.DataFrame({\n",
    "    'name': hip_hop_death[0]['Name'],\n",
    "    'death_date': hip_hop_death[0]['Date of death'],\n",
    "    'age': hip_hop_death[0]['Age at death'],\n",
    "    'death_location': hip_hop_death[0]['Location of death'],\n",
    "    'death_cause': hip_hop_death[0]['Cause of death']\n",
    "})"
   ]
  },
  {
   "cell_type": "code",
   "execution_count": 236,
   "id": "602398bc",
   "metadata": {},
   "outputs": [],
   "source": [
    "hip_hop_death_df.death_date = pd.to_datetime(hip_hop_death_df.death_date)"
   ]
  },
  {
   "cell_type": "code",
   "execution_count": 237,
   "id": "90c98055",
   "metadata": {},
   "outputs": [
    {
     "data": {
      "text/html": [
       "<div>\n",
       "<style scoped>\n",
       "    .dataframe tbody tr th:only-of-type {\n",
       "        vertical-align: middle;\n",
       "    }\n",
       "\n",
       "    .dataframe tbody tr th {\n",
       "        vertical-align: top;\n",
       "    }\n",
       "\n",
       "    .dataframe thead th {\n",
       "        text-align: right;\n",
       "    }\n",
       "</style>\n",
       "<table border=\"1\" class=\"dataframe\">\n",
       "  <thead>\n",
       "    <tr style=\"text-align: right;\">\n",
       "      <th></th>\n",
       "      <th>name</th>\n",
       "      <th>death_date</th>\n",
       "      <th>age</th>\n",
       "      <th>death_location</th>\n",
       "      <th>death_cause</th>\n",
       "    </tr>\n",
       "  </thead>\n",
       "  <tbody>\n",
       "    <tr>\n",
       "      <th>0</th>\n",
       "      <td>Scott La Rock</td>\n",
       "      <td>1987-08-27</td>\n",
       "      <td>25</td>\n",
       "      <td>New York City, New York, U.S.</td>\n",
       "      <td>Shooting</td>\n",
       "    </tr>\n",
       "    <tr>\n",
       "      <th>1</th>\n",
       "      <td>Paul C</td>\n",
       "      <td>1989-07-17</td>\n",
       "      <td>24</td>\n",
       "      <td>New York City, New York, U.S.</td>\n",
       "      <td>Shooting</td>\n",
       "    </tr>\n",
       "    <tr>\n",
       "      <th>2</th>\n",
       "      <td>Danny \"D-Boy\" Rodriguez</td>\n",
       "      <td>1990-10-06</td>\n",
       "      <td>22</td>\n",
       "      <td>Dallas, Texas, U.S.</td>\n",
       "      <td>Shooting</td>\n",
       "    </tr>\n",
       "    <tr>\n",
       "      <th>3</th>\n",
       "      <td>Charizma</td>\n",
       "      <td>1993-12-16</td>\n",
       "      <td>20</td>\n",
       "      <td>Milpitas, California, U.S.</td>\n",
       "      <td>Shooting</td>\n",
       "    </tr>\n",
       "    <tr>\n",
       "      <th>4</th>\n",
       "      <td>Stretch</td>\n",
       "      <td>1995-11-30</td>\n",
       "      <td>27</td>\n",
       "      <td>New York City, New York, U.S.</td>\n",
       "      <td>Shooting</td>\n",
       "    </tr>\n",
       "  </tbody>\n",
       "</table>\n",
       "</div>"
      ],
      "text/plain": [
       "                      name death_date  age                 death_location  \\\n",
       "0            Scott La Rock 1987-08-27   25  New York City, New York, U.S.   \n",
       "1                   Paul C 1989-07-17   24  New York City, New York, U.S.   \n",
       "2  Danny \"D-Boy\" Rodriguez 1990-10-06   22            Dallas, Texas, U.S.   \n",
       "3                 Charizma 1993-12-16   20     Milpitas, California, U.S.   \n",
       "4                  Stretch 1995-11-30   27  New York City, New York, U.S.   \n",
       "\n",
       "  death_cause  \n",
       "0    Shooting  \n",
       "1    Shooting  \n",
       "2    Shooting  \n",
       "3    Shooting  \n",
       "4    Shooting  "
      ]
     },
     "execution_count": 237,
     "metadata": {},
     "output_type": "execute_result"
    }
   ],
   "source": [
    "hip_hop_death_df.head()"
   ]
  },
  {
   "cell_type": "code",
   "execution_count": 238,
   "id": "612273f6",
   "metadata": {},
   "outputs": [],
   "source": [
    "hip_hop_death_df['year'] = hip_hop_death_df.death_date.dt.year"
   ]
  },
  {
   "cell_type": "code",
   "execution_count": 239,
   "id": "458e8c0e",
   "metadata": {},
   "outputs": [],
   "source": [
    "hip_hop_death_df['country'] = hip_hop_death_df['death_location'].str.split(',').str[-1]"
   ]
  },
  {
   "cell_type": "code",
   "execution_count": 240,
   "id": "305e1bdb",
   "metadata": {},
   "outputs": [],
   "source": [
    "hip_hop_death_df['state'] = hip_hop_death_df['death_location'].str.split(',').str[-2]"
   ]
  },
  {
   "cell_type": "code",
   "execution_count": 241,
   "id": "89b9dc3a",
   "metadata": {},
   "outputs": [
    {
     "data": {
      "text/html": [
       "<div>\n",
       "<style scoped>\n",
       "    .dataframe tbody tr th:only-of-type {\n",
       "        vertical-align: middle;\n",
       "    }\n",
       "\n",
       "    .dataframe tbody tr th {\n",
       "        vertical-align: top;\n",
       "    }\n",
       "\n",
       "    .dataframe thead th {\n",
       "        text-align: right;\n",
       "    }\n",
       "</style>\n",
       "<table border=\"1\" class=\"dataframe\">\n",
       "  <thead>\n",
       "    <tr style=\"text-align: right;\">\n",
       "      <th></th>\n",
       "      <th>name</th>\n",
       "      <th>death_date</th>\n",
       "      <th>age</th>\n",
       "      <th>death_location</th>\n",
       "      <th>death_cause</th>\n",
       "      <th>year</th>\n",
       "      <th>country</th>\n",
       "      <th>state</th>\n",
       "    </tr>\n",
       "  </thead>\n",
       "  <tbody>\n",
       "    <tr>\n",
       "      <th>0</th>\n",
       "      <td>Scott La Rock</td>\n",
       "      <td>1987-08-27</td>\n",
       "      <td>25</td>\n",
       "      <td>New York City, New York, U.S.</td>\n",
       "      <td>Shooting</td>\n",
       "      <td>1987</td>\n",
       "      <td>U.S.</td>\n",
       "      <td>New York</td>\n",
       "    </tr>\n",
       "    <tr>\n",
       "      <th>1</th>\n",
       "      <td>Paul C</td>\n",
       "      <td>1989-07-17</td>\n",
       "      <td>24</td>\n",
       "      <td>New York City, New York, U.S.</td>\n",
       "      <td>Shooting</td>\n",
       "      <td>1989</td>\n",
       "      <td>U.S.</td>\n",
       "      <td>New York</td>\n",
       "    </tr>\n",
       "    <tr>\n",
       "      <th>2</th>\n",
       "      <td>Danny \"D-Boy\" Rodriguez</td>\n",
       "      <td>1990-10-06</td>\n",
       "      <td>22</td>\n",
       "      <td>Dallas, Texas, U.S.</td>\n",
       "      <td>Shooting</td>\n",
       "      <td>1990</td>\n",
       "      <td>U.S.</td>\n",
       "      <td>Texas</td>\n",
       "    </tr>\n",
       "    <tr>\n",
       "      <th>3</th>\n",
       "      <td>Charizma</td>\n",
       "      <td>1993-12-16</td>\n",
       "      <td>20</td>\n",
       "      <td>Milpitas, California, U.S.</td>\n",
       "      <td>Shooting</td>\n",
       "      <td>1993</td>\n",
       "      <td>U.S.</td>\n",
       "      <td>California</td>\n",
       "    </tr>\n",
       "    <tr>\n",
       "      <th>4</th>\n",
       "      <td>Stretch</td>\n",
       "      <td>1995-11-30</td>\n",
       "      <td>27</td>\n",
       "      <td>New York City, New York, U.S.</td>\n",
       "      <td>Shooting</td>\n",
       "      <td>1995</td>\n",
       "      <td>U.S.</td>\n",
       "      <td>New York</td>\n",
       "    </tr>\n",
       "  </tbody>\n",
       "</table>\n",
       "</div>"
      ],
      "text/plain": [
       "                      name death_date  age                 death_location  \\\n",
       "0            Scott La Rock 1987-08-27   25  New York City, New York, U.S.   \n",
       "1                   Paul C 1989-07-17   24  New York City, New York, U.S.   \n",
       "2  Danny \"D-Boy\" Rodriguez 1990-10-06   22            Dallas, Texas, U.S.   \n",
       "3                 Charizma 1993-12-16   20     Milpitas, California, U.S.   \n",
       "4                  Stretch 1995-11-30   27  New York City, New York, U.S.   \n",
       "\n",
       "  death_cause  year country        state  \n",
       "0    Shooting  1987    U.S.     New York  \n",
       "1    Shooting  1989    U.S.     New York  \n",
       "2    Shooting  1990    U.S.        Texas  \n",
       "3    Shooting  1993    U.S.   California  \n",
       "4    Shooting  1995    U.S.     New York  "
      ]
     },
     "execution_count": 241,
     "metadata": {},
     "output_type": "execute_result"
    }
   ],
   "source": [
    "hip_hop_death_df.head()"
   ]
  },
  {
   "cell_type": "code",
   "execution_count": 244,
   "id": "11ac8412",
   "metadata": {},
   "outputs": [],
   "source": [
    "hip_hop_death_df['country'] = hip_hop_death_df['country'].str.strip().replace({'U.S.': 'USA'})"
   ]
  },
  {
   "cell_type": "code",
   "execution_count": 247,
   "id": "6a0bdd15",
   "metadata": {},
   "outputs": [
    {
     "data": {
      "text/html": [
       "<div>\n",
       "<style scoped>\n",
       "    .dataframe tbody tr th:only-of-type {\n",
       "        vertical-align: middle;\n",
       "    }\n",
       "\n",
       "    .dataframe tbody tr th {\n",
       "        vertical-align: top;\n",
       "    }\n",
       "\n",
       "    .dataframe thead th {\n",
       "        text-align: right;\n",
       "    }\n",
       "</style>\n",
       "<table border=\"1\" class=\"dataframe\">\n",
       "  <thead>\n",
       "    <tr style=\"text-align: right;\">\n",
       "      <th></th>\n",
       "      <th>name</th>\n",
       "      <th>death_date</th>\n",
       "      <th>age</th>\n",
       "      <th>death_location</th>\n",
       "      <th>death_cause</th>\n",
       "      <th>year</th>\n",
       "      <th>country</th>\n",
       "      <th>state</th>\n",
       "    </tr>\n",
       "  </thead>\n",
       "  <tbody>\n",
       "    <tr>\n",
       "      <th>0</th>\n",
       "      <td>Scott La Rock</td>\n",
       "      <td>1987-08-27</td>\n",
       "      <td>25</td>\n",
       "      <td>New York City, New York, U.S.</td>\n",
       "      <td>Shooting</td>\n",
       "      <td>1987</td>\n",
       "      <td>USA</td>\n",
       "      <td>New York</td>\n",
       "    </tr>\n",
       "    <tr>\n",
       "      <th>1</th>\n",
       "      <td>Paul C</td>\n",
       "      <td>1989-07-17</td>\n",
       "      <td>24</td>\n",
       "      <td>New York City, New York, U.S.</td>\n",
       "      <td>Shooting</td>\n",
       "      <td>1989</td>\n",
       "      <td>USA</td>\n",
       "      <td>New York</td>\n",
       "    </tr>\n",
       "    <tr>\n",
       "      <th>2</th>\n",
       "      <td>Danny \"D-Boy\" Rodriguez</td>\n",
       "      <td>1990-10-06</td>\n",
       "      <td>22</td>\n",
       "      <td>Dallas, Texas, U.S.</td>\n",
       "      <td>Shooting</td>\n",
       "      <td>1990</td>\n",
       "      <td>USA</td>\n",
       "      <td>Texas</td>\n",
       "    </tr>\n",
       "    <tr>\n",
       "      <th>3</th>\n",
       "      <td>Charizma</td>\n",
       "      <td>1993-12-16</td>\n",
       "      <td>20</td>\n",
       "      <td>Milpitas, California, U.S.</td>\n",
       "      <td>Shooting</td>\n",
       "      <td>1993</td>\n",
       "      <td>USA</td>\n",
       "      <td>California</td>\n",
       "    </tr>\n",
       "    <tr>\n",
       "      <th>4</th>\n",
       "      <td>Stretch</td>\n",
       "      <td>1995-11-30</td>\n",
       "      <td>27</td>\n",
       "      <td>New York City, New York, U.S.</td>\n",
       "      <td>Shooting</td>\n",
       "      <td>1995</td>\n",
       "      <td>USA</td>\n",
       "      <td>New York</td>\n",
       "    </tr>\n",
       "  </tbody>\n",
       "</table>\n",
       "</div>"
      ],
      "text/plain": [
       "                      name death_date  age                 death_location  \\\n",
       "0            Scott La Rock 1987-08-27   25  New York City, New York, U.S.   \n",
       "1                   Paul C 1989-07-17   24  New York City, New York, U.S.   \n",
       "2  Danny \"D-Boy\" Rodriguez 1990-10-06   22            Dallas, Texas, U.S.   \n",
       "3                 Charizma 1993-12-16   20     Milpitas, California, U.S.   \n",
       "4                  Stretch 1995-11-30   27  New York City, New York, U.S.   \n",
       "\n",
       "  death_cause  year country        state  \n",
       "0    Shooting  1987     USA     New York  \n",
       "1    Shooting  1989     USA     New York  \n",
       "2    Shooting  1990     USA        Texas  \n",
       "3    Shooting  1993     USA   California  \n",
       "4    Shooting  1995     USA     New York  "
      ]
     },
     "execution_count": 247,
     "metadata": {},
     "output_type": "execute_result"
    }
   ],
   "source": [
    "hip_hop_death_df.head()"
   ]
  },
  {
   "cell_type": "code",
   "execution_count": 248,
   "id": "f5fe5003",
   "metadata": {},
   "outputs": [
    {
     "name": "stdout",
     "output_type": "stream",
     "text": [
      "<class 'pandas.core.frame.DataFrame'>\n",
      "RangeIndex: 60 entries, 0 to 59\n",
      "Data columns (total 8 columns):\n",
      " #   Column          Non-Null Count  Dtype         \n",
      "---  ------          --------------  -----         \n",
      " 0   name            60 non-null     object        \n",
      " 1   death_date      60 non-null     datetime64[ns]\n",
      " 2   age             60 non-null     int64         \n",
      " 3   death_location  60 non-null     object        \n",
      " 4   death_cause     60 non-null     object        \n",
      " 5   year            60 non-null     int64         \n",
      " 6   country         60 non-null     object        \n",
      " 7   state           60 non-null     object        \n",
      "dtypes: datetime64[ns](1), int64(2), object(5)\n",
      "memory usage: 3.9+ KB\n"
     ]
    }
   ],
   "source": [
    "hip_hop_death_df.info()"
   ]
  },
  {
   "cell_type": "code",
   "execution_count": null,
   "id": "53d84d3b",
   "metadata": {},
   "outputs": [],
   "source": []
  },
  {
   "cell_type": "code",
   "execution_count": null,
   "id": "ef258954",
   "metadata": {},
   "outputs": [],
   "source": []
  },
  {
   "cell_type": "code",
   "execution_count": 252,
   "id": "8eac7e82",
   "metadata": {},
   "outputs": [],
   "source": [
    "hip_hop_death_df.to_csv('../2_analysis/clean_hip_hop_singers_death.csv', index=False)"
   ]
  },
  {
   "cell_type": "code",
   "execution_count": null,
   "id": "de419cd8",
   "metadata": {},
   "outputs": [],
   "source": []
  }
 ],
 "metadata": {
  "kernelspec": {
   "display_name": "Python 3 (ipykernel)",
   "language": "python",
   "name": "python3"
  },
  "language_info": {
   "codemirror_mode": {
    "name": "ipython",
    "version": 3
   },
   "file_extension": ".py",
   "mimetype": "text/x-python",
   "name": "python",
   "nbconvert_exporter": "python",
   "pygments_lexer": "ipython3",
   "version": "3.9.9"
  }
 },
 "nbformat": 4,
 "nbformat_minor": 5
}
